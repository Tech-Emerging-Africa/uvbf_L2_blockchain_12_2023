{
 "cells": [
  {
   "cell_type": "code",
   "execution_count": 1,
   "metadata": {},
   "outputs": [],
   "source": [
    "#! pip install web3"
   ]
  },
  {
   "cell_type": "code",
   "execution_count": 2,
   "metadata": {},
   "outputs": [
    {
     "data": {
      "text/plain": [
       "True"
      ]
     },
     "execution_count": 2,
     "metadata": {},
     "output_type": "execute_result"
    }
   ],
   "source": [
    "from web3 import Web3\n",
    "\n",
    "ganache_url = 'http://127.0.0.1:7545'\n",
    "\n",
    "web3 = Web3(Web3.HTTPProvider(ganache_url))\n",
    "\n",
    "web3.is_connected()"
   ]
  },
  {
   "cell_type": "code",
   "execution_count": 3,
   "metadata": {},
   "outputs": [],
   "source": [
    "account1 = \"0xDC02be89b7ac2730d2b7D902A38997f0DB694ff4\"\n",
    "account2= \"0x61bF7f678b3df10bC177269737FF0cC10A70C648\"\n",
    "private_key_1 = \"0x36581f93dd2b37ca2f2b71346de90c594decd16c73fed9b183f02e3972f9081f\""
   ]
  },
  {
   "cell_type": "code",
   "execution_count": 4,
   "metadata": {},
   "outputs": [
    {
     "data": {
      "text/plain": [
       "1"
      ]
     },
     "execution_count": 4,
     "metadata": {},
     "output_type": "execute_result"
    }
   ],
   "source": [
    "# Prendre le nonce\n",
    "nonce = web3.eth.get_transaction_count(account1)\n",
    "nonce"
   ]
  },
  {
   "cell_type": "code",
   "execution_count": 5,
   "metadata": {},
   "outputs": [
    {
     "data": {
      "text/plain": [
       "SignedTransaction(rawTransaction=HexBytes('0x02f870820539010a842faf08008252089461bf7f678b3df10bc177269737ff0cc10a70c648880de0b6b3a764000080c080a0cdd819b76f8cbed47da678eca9933ab10fafade87a20c0603890318bc4b3dd7fa0345ec71c645fee751b265ca239bf23dd2816535aae29317bd64ffcc80c4b9709'), hash=HexBytes('0x33bc2cfe90b24d399ff841c7e9710f5671ef56a7c0a82b4e605b825bda29a6f7'), r=93105950414638214171154216403363201152165368064506075205473816233346698829183, s=23687725963391231411238546464215916008352848988543884463671608775500475635465, v=0)"
      ]
     },
     "execution_count": 5,
     "metadata": {},
     "output_type": "execute_result"
    }
   ],
   "source": [
    "# Creer la transaction\n",
    "tx = {\n",
    "    \"nonce\": nonce,\n",
    "    \"to\": account2,\n",
    "    \"value\": Web3.to_wei(1, \"ether\"),\n",
    "    \"gas\": 21000,\n",
    "    \"maxFeePerGas\": 800000000,\n",
    "    \"maxPriorityFeePerGas\": 10,\n",
    "    \"chainId\": web3.eth.chain_id\n",
    "}\n",
    "# Signer la transaction\n",
    "signed_tx = web3.eth.account.sign_transaction(tx, private_key_1)\n",
    "signed_tx"
   ]
  },
  {
   "cell_type": "code",
   "execution_count": 6,
   "metadata": {},
   "outputs": [
    {
     "data": {
      "text/plain": [
       "HexBytes('0x33bc2cfe90b24d399ff841c7e9710f5671ef56a7c0a82b4e605b825bda29a6f7')"
      ]
     },
     "execution_count": 6,
     "metadata": {},
     "output_type": "execute_result"
    }
   ],
   "source": [
    "# Envoyer la transaction et Recevoir le hash de la transaction\n",
    "tx_hash = web3.eth.send_raw_transaction(signed_tx.rawTransaction)\n",
    "tx_hash"
   ]
  },
  {
   "cell_type": "code",
   "execution_count": 54,
   "metadata": {},
   "outputs": [],
   "source": [
    "# ABI\n",
    "# Contract Address\n",
    "import json\n",
    "f = open('sc_demo/build/contracts/Enregistrer.json')\n",
    "data = json.load(f)\n",
    "f.close()\n",
    "\n",
    "contract = web3.eth.contract(address='0xd3b61592eC1B5Ecf306E16655E1f9026B9148939', abi=data['abi'])"
   ]
  },
  {
   "cell_type": "code",
   "execution_count": 76,
   "metadata": {},
   "outputs": [
    {
     "data": {
      "text/plain": [
       "{'5777': {'events': {},\n",
       "  'links': {},\n",
       "  'address': '0xd3b61592eC1B5Ecf306E16655E1f9026B9148939',\n",
       "  'transactionHash': '0x4071e943069096079c0a3e580929c21fab8b08dad1a80ba8d1a015527096dabf'}}"
      ]
     },
     "execution_count": 76,
     "metadata": {},
     "output_type": "execute_result"
    }
   ],
   "source": [
    "data['networks']"
   ]
  },
  {
   "cell_type": "code",
   "execution_count": 59,
   "metadata": {},
   "outputs": [],
   "source": [
    "nonce = web3.eth.get_transaction_count(account1)\n",
    "contract_transaction = contract.functions.ecrire(30)"
   ]
  },
  {
   "cell_type": "code",
   "execution_count": 60,
   "metadata": {},
   "outputs": [],
   "source": [
    "contract_tx = {\n",
    "    \"nonce\": nonce,\n",
    "    \"chainId\": web3.eth.chain_id\n",
    "}\n",
    "contract_transaction = contract_transaction.build_transaction(contract_tx)"
   ]
  },
  {
   "cell_type": "code",
   "execution_count": 61,
   "metadata": {},
   "outputs": [
    {
     "data": {
      "text/plain": [
       "HexBytes('0xadf8e3c27be749fbac1d6d2f8695976c06d4b5dbc53570e425ed8619910161ec')"
      ]
     },
     "execution_count": 61,
     "metadata": {},
     "output_type": "execute_result"
    }
   ],
   "source": [
    "signed_contract_transaction = web3.eth.account.sign_transaction(contract_transaction, private_key_1)\n",
    "signed_contract_transaction_hash = web3.eth.send_raw_transaction(signed_contract_transaction.rawTransaction)\n",
    "signed_contract_transaction_hash"
   ]
  },
  {
   "cell_type": "code",
   "execution_count": 62,
   "metadata": {},
   "outputs": [
    {
     "data": {
      "text/plain": [
       "30"
      ]
     },
     "execution_count": 62,
     "metadata": {},
     "output_type": "execute_result"
    }
   ],
   "source": [
    "contract.functions.lire().call()"
   ]
  },
  {
   "cell_type": "code",
   "execution_count": null,
   "metadata": {},
   "outputs": [],
   "source": []
  }
 ],
 "metadata": {
  "kernelspec": {
   "display_name": "Python 3",
   "language": "python",
   "name": "python3"
  },
  "language_info": {
   "codemirror_mode": {
    "name": "ipython",
    "version": 3
   },
   "file_extension": ".py",
   "mimetype": "text/x-python",
   "name": "python",
   "nbconvert_exporter": "python",
   "pygments_lexer": "ipython3",
   "version": "3.9.13"
  }
 },
 "nbformat": 4,
 "nbformat_minor": 2
}
